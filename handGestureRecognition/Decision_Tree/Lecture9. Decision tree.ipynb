{
 "cells": [
  {
   "cell_type": "markdown",
   "id": "0216d594",
   "metadata": {},
   "source": [
    "# [9주차] 의사결정나무 (Decision Tree)"
   ]
  },
  {
   "cell_type": "markdown",
   "id": "0cd5263e",
   "metadata": {},
   "source": [
    "@ Date: 2021-04-18 <br>\n",
    "@ Author: haejiko@gmail.com"
   ]
  },
  {
   "cell_type": "markdown",
   "id": "290f1caa",
   "metadata": {},
   "source": [
    "## Table of Contents"
   ]
  },
  {
   "cell_type": "markdown",
   "id": "01adbdee",
   "metadata": {},
   "source": [
    "[1. 실험환경 구성 (Experimental setting)](#1.-실험환경-구성-(Experimental-setting))  \n",
    "[2. 데이터 불러오기 (Data loading)](#2.-데이터-불러오기-(Data-loading))  \n",
    ">[데이터 확인](#데이터-확인)  \n",
    ">[학습, 테스트 데이터 분리](#학습,-테스트-데이터-분리)  \n",
    "\n",
    "[3. 의사결정나무 모델 구축 (Classification Tree)](#3.-의사결정나무-모델-구축-(Classification-Tree)) \n",
    ">[의사결정나무 모델 가시화](#의사결정나무-모델-가시화) \n",
    "\n",
    "[4. 의사결정나무 모델 테스트 ](#4.-의사결정나무-모델-테스트) \n",
    ">[Cross Validation](#Cross Validation)  \n",
    "\n",
    "[5. 가지치기 수행 (Pruning phase)](#5.-가지치기-수행-(Pruning-phase)) "
   ]
  },
  {
   "cell_type": "markdown",
   "id": "b194fc47",
   "metadata": {
    "id": "under-complex"
   },
   "source": [
    "# 1. 실험환경 구성 (Experimental setting)"
   ]
  },
  {
   "cell_type": "code",
   "execution_count": 1,
   "id": "2001537f",
   "metadata": {
    "executionInfo": {
     "elapsed": 1230,
     "status": "ok",
     "timestamp": 1616656739831,
     "user": {
      "displayName": "고해지",
      "photoUrl": "",
      "userId": "12709063932312169253"
     },
     "user_tz": -540
    },
    "id": "compatible-democrat"
   },
   "outputs": [],
   "source": [
    "# 라이브러리 로드\n",
    "import pandas as pd\n",
    "\n",
    "from sklearn.tree import DecisionTreeClassifier\n",
    "from sklearn.datasets import load_breast_cancer # 사용할 dataset (유방암데이터)\n",
    "from sklearn.model_selection import train_test_split # 학습, 테스트set 구분\n",
    "from sklearn.tree import export_graphviz # tree 시각화를 위해\n",
    "# export_graphviz : 의사결정나무에 대한 graphviz dot data 생성하는 함수\n",
    "import graphviz # tree 시각화\n",
    "import sklearn.metrics as mt # 성능지표를 계산하기 위해 import\n",
    "from sklearn.model_selection import cross_val_score, cross_validate # 교차검증\n",
    "\n",
    "import warnings\n",
    "warnings.filterwarnings('ignore')\n"
   ]
  },
  {
   "cell_type": "markdown",
   "id": "1f7231ab",
   "metadata": {
    "id": "russian-press"
   },
   "source": [
    "# 2. 데이터 불러오기 (Data loading)"
   ]
  },
  {
   "cell_type": "markdown",
   "id": "174d4deb",
   "metadata": {
    "id": "exclusive-fairy"
   },
   "source": [
    "## 데이터 로드"
   ]
  },
  {
   "cell_type": "code",
   "execution_count": 2,
   "id": "da589a8b",
   "metadata": {
    "executionInfo": {
     "elapsed": 819,
     "status": "ok",
     "timestamp": 1616656507695,
     "user": {
      "displayName": "고해지",
      "photoUrl": "",
      "userId": "12709063932312169253"
     },
     "user_tz": -540
    },
    "id": "45ZNF76VNB4B"
   },
   "outputs": [],
   "source": [
    "cancer = load_breast_cancer()"
   ]
  },
  {
   "cell_type": "markdown",
   "id": "bfd1880e",
   "metadata": {
    "id": "perfect-pointer"
   },
   "source": [
    "## 학습, 테스트 데이터 분리"
   ]
  },
  {
   "cell_type": "code",
   "execution_count": 3,
   "id": "3d5ecc06",
   "metadata": {
    "executionInfo": {
     "elapsed": 878,
     "status": "ok",
     "timestamp": 1616656634002,
     "user": {
      "displayName": "고해지",
      "photoUrl": "",
      "userId": "12709063932312169253"
     },
     "user_tz": -540
    },
    "id": "identical-salon"
   },
   "outputs": [],
   "source": [
    "seed = 2021\n",
    "\n",
    "# 학습, 테스트 데이터 분리 (0.7:0.3)\n",
    "x_train, x_test, y_train, y_test = train_test_split(cancer.data, cancer.target, test_size=0.7, random_state=seed)"
   ]
  },
  {
   "cell_type": "markdown",
   "id": "f3a5224d",
   "metadata": {
    "id": "becoming-rainbow"
   },
   "source": [
    "# 3. 의사결정나무 모델 구축 (Classification Tree)"
   ]
  },
  {
   "cell_type": "code",
   "execution_count": 4,
   "id": "8ef36b3c",
   "metadata": {
    "colab": {
     "base_uri": "https://localhost:8080/"
    },
    "executionInfo": {
     "elapsed": 1241,
     "status": "ok",
     "timestamp": 1616656638096,
     "user": {
      "displayName": "고해지",
      "photoUrl": "",
      "userId": "12709063932312169253"
     },
     "user_tz": -540
    },
    "id": "charged-james",
    "outputId": "5eb5c18c-47d1-4406-9f7d-5c3c56bd3c88"
   },
   "outputs": [
    {
     "data": {
      "text/plain": [
       "DecisionTreeClassifier(random_state=156)"
      ]
     },
     "execution_count": 4,
     "metadata": {},
     "output_type": "execute_result"
    }
   ],
   "source": [
    "dt_clf = DecisionTreeClassifier(random_state=156)\n",
    "dt_clf.fit(x_train, y_train) # 학습"
   ]
  },
  {
   "cell_type": "markdown",
   "id": "6622a477",
   "metadata": {
    "id": "distant-duplicate"
   },
   "source": [
    "## 의사결정나무 모델 가시화"
   ]
  },
  {
   "cell_type": "code",
   "execution_count": 5,
   "id": "2edafcd8",
   "metadata": {
    "executionInfo": {
     "elapsed": 650,
     "status": "ok",
     "timestamp": 1616656644818,
     "user": {
      "displayName": "고해지",
      "photoUrl": "",
      "userId": "12709063932312169253"
     },
     "user_tz": -540
    },
    "id": "statewide-graduation"
   },
   "outputs": [],
   "source": [
    "# export_graphviz( )의 호출 결과로 out_file로 지정된 tree.dot 파일을 생성\n",
    "export_graphviz(dt_clf, out_file=\"tree.dot\", class_names = cancer.target_names, feature_names = cancer.feature_names, impurity=True, filled=True)"
   ]
  },
  {
   "cell_type": "code",
   "execution_count": 7,
   "id": "2eea5fe7",
   "metadata": {
    "colab": {
     "base_uri": "https://localhost:8080/",
     "height": 933
    },
    "executionInfo": {
     "elapsed": 1010,
     "status": "ok",
     "timestamp": 1616656648253,
     "user": {
      "displayName": "고해지",
      "photoUrl": "",
      "userId": "12709063932312169253"
     },
     "user_tz": -540
    },
    "id": "outside-winner",
    "outputId": "e25de700-09ec-41c4-8337-6d7ca3adc534"
   },
   "outputs": [
    {
     "name": "stdout",
     "output_type": "stream",
     "text": [
      "[ max_depth의 제약이 없는 경우의 Decision Tree 시각화 ]\n"
     ]
    },
    {
     "data": {
      "image/svg+xml": [
       "<?xml version=\"1.0\" encoding=\"UTF-8\" standalone=\"no\"?>\r\n",
       "<!DOCTYPE svg PUBLIC \"-//W3C//DTD SVG 1.1//EN\"\r\n",
       " \"http://www.w3.org/Graphics/SVG/1.1/DTD/svg11.dtd\">\r\n",
       "<!-- Generated by graphviz version 2.47.1 (20210417.1919)\r\n",
       " -->\r\n",
       "<!-- Title: Tree Pages: 1 -->\r\n",
       "<svg width=\"926pt\" height=\"671pt\"\r\n",
       " viewBox=\"0.00 0.00 925.50 671.00\" xmlns=\"http://www.w3.org/2000/svg\" xmlns:xlink=\"http://www.w3.org/1999/xlink\">\r\n",
       "<g id=\"graph0\" class=\"graph\" transform=\"scale(1 1) rotate(0) translate(4 667)\">\r\n",
       "<title>Tree</title>\r\n",
       "<polygon fill=\"white\" stroke=\"transparent\" points=\"-4,4 -4,-667 921.5,-667 921.5,4 -4,4\"/>\r\n",
       "<!-- 0 -->\r\n",
       "<g id=\"node1\" class=\"node\">\r\n",
       "<title>0</title>\r\n",
       "<polygon fill=\"#a2d1f3\" stroke=\"black\" points=\"622.5,-663 431.5,-663 431.5,-580 622.5,-580 622.5,-663\"/>\r\n",
       "<text text-anchor=\"middle\" x=\"527\" y=\"-647.8\" font-family=\"Times New Roman,serif\" font-size=\"14.00\">worst concave points &lt;= 0.145</text>\r\n",
       "<text text-anchor=\"middle\" x=\"527\" y=\"-632.8\" font-family=\"Times New Roman,serif\" font-size=\"14.00\">gini = 0.453</text>\r\n",
       "<text text-anchor=\"middle\" x=\"527\" y=\"-617.8\" font-family=\"Times New Roman,serif\" font-size=\"14.00\">samples = 170</text>\r\n",
       "<text text-anchor=\"middle\" x=\"527\" y=\"-602.8\" font-family=\"Times New Roman,serif\" font-size=\"14.00\">value = [59, 111]</text>\r\n",
       "<text text-anchor=\"middle\" x=\"527\" y=\"-587.8\" font-family=\"Times New Roman,serif\" font-size=\"14.00\">class = benign</text>\r\n",
       "</g>\r\n",
       "<!-- 1 -->\r\n",
       "<g id=\"node2\" class=\"node\">\r\n",
       "<title>1</title>\r\n",
       "<polygon fill=\"#44a2e6\" stroke=\"black\" points=\"474,-544 338,-544 338,-461 474,-461 474,-544\"/>\r\n",
       "<text text-anchor=\"middle\" x=\"406\" y=\"-528.8\" font-family=\"Times New Roman,serif\" font-size=\"14.00\">worst area &lt;= 893.65</text>\r\n",
       "<text text-anchor=\"middle\" x=\"406\" y=\"-513.8\" font-family=\"Times New Roman,serif\" font-size=\"14.00\">gini = 0.101</text>\r\n",
       "<text text-anchor=\"middle\" x=\"406\" y=\"-498.8\" font-family=\"Times New Roman,serif\" font-size=\"14.00\">samples = 113</text>\r\n",
       "<text text-anchor=\"middle\" x=\"406\" y=\"-483.8\" font-family=\"Times New Roman,serif\" font-size=\"14.00\">value = [6, 107]</text>\r\n",
       "<text text-anchor=\"middle\" x=\"406\" y=\"-468.8\" font-family=\"Times New Roman,serif\" font-size=\"14.00\">class = benign</text>\r\n",
       "</g>\r\n",
       "<!-- 0&#45;&gt;1 -->\r\n",
       "<g id=\"edge1\" class=\"edge\">\r\n",
       "<title>0&#45;&gt;1</title>\r\n",
       "<path fill=\"none\" stroke=\"black\" d=\"M485.02,-579.91C475.45,-570.65 465.19,-560.73 455.34,-551.21\"/>\r\n",
       "<polygon fill=\"black\" stroke=\"black\" points=\"457.53,-548.46 447.91,-544.02 452.66,-553.49 457.53,-548.46\"/>\r\n",
       "<text text-anchor=\"middle\" x=\"448.33\" y=\"-565.32\" font-family=\"Times New Roman,serif\" font-size=\"14.00\">True</text>\r\n",
       "</g>\r\n",
       "<!-- 10 -->\r\n",
       "<g id=\"node11\" class=\"node\">\r\n",
       "<title>10</title>\r\n",
       "<polygon fill=\"#e78b48\" stroke=\"black\" points=\"718.5,-544 521.5,-544 521.5,-461 718.5,-461 718.5,-544\"/>\r\n",
       "<text text-anchor=\"middle\" x=\"620\" y=\"-528.8\" font-family=\"Times New Roman,serif\" font-size=\"14.00\">fractal dimension error &lt;= 0.013</text>\r\n",
       "<text text-anchor=\"middle\" x=\"620\" y=\"-513.8\" font-family=\"Times New Roman,serif\" font-size=\"14.00\">gini = 0.131</text>\r\n",
       "<text text-anchor=\"middle\" x=\"620\" y=\"-498.8\" font-family=\"Times New Roman,serif\" font-size=\"14.00\">samples = 57</text>\r\n",
       "<text text-anchor=\"middle\" x=\"620\" y=\"-483.8\" font-family=\"Times New Roman,serif\" font-size=\"14.00\">value = [53, 4]</text>\r\n",
       "<text text-anchor=\"middle\" x=\"620\" y=\"-468.8\" font-family=\"Times New Roman,serif\" font-size=\"14.00\">class = malignant</text>\r\n",
       "</g>\r\n",
       "<!-- 0&#45;&gt;10 -->\r\n",
       "<g id=\"edge10\" class=\"edge\">\r\n",
       "<title>0&#45;&gt;10</title>\r\n",
       "<path fill=\"none\" stroke=\"black\" d=\"M559.27,-579.91C566.41,-570.92 574.04,-561.32 581.41,-552.05\"/>\r\n",
       "<polygon fill=\"black\" stroke=\"black\" points=\"584.31,-554.03 587.79,-544.02 578.83,-549.67 584.31,-554.03\"/>\r\n",
       "<text text-anchor=\"middle\" x=\"590.63\" y=\"-565.16\" font-family=\"Times New Roman,serif\" font-size=\"14.00\">False</text>\r\n",
       "</g>\r\n",
       "<!-- 2 -->\r\n",
       "<g id=\"node3\" class=\"node\">\r\n",
       "<title>2</title>\r\n",
       "<polygon fill=\"#3d9fe5\" stroke=\"black\" points=\"287.5,-425 136.5,-425 136.5,-342 287.5,-342 287.5,-425\"/>\r\n",
       "<text text-anchor=\"middle\" x=\"212\" y=\"-409.8\" font-family=\"Times New Roman,serif\" font-size=\"14.00\">worst texture &lt;= 33.105</text>\r\n",
       "<text text-anchor=\"middle\" x=\"212\" y=\"-394.8\" font-family=\"Times New Roman,serif\" font-size=\"14.00\">gini = 0.036</text>\r\n",
       "<text text-anchor=\"middle\" x=\"212\" y=\"-379.8\" font-family=\"Times New Roman,serif\" font-size=\"14.00\">samples = 108</text>\r\n",
       "<text text-anchor=\"middle\" x=\"212\" y=\"-364.8\" font-family=\"Times New Roman,serif\" font-size=\"14.00\">value = [2, 106]</text>\r\n",
       "<text text-anchor=\"middle\" x=\"212\" y=\"-349.8\" font-family=\"Times New Roman,serif\" font-size=\"14.00\">class = benign</text>\r\n",
       "</g>\r\n",
       "<!-- 1&#45;&gt;2 -->\r\n",
       "<g id=\"edge2\" class=\"edge\">\r\n",
       "<title>1&#45;&gt;2</title>\r\n",
       "<path fill=\"none\" stroke=\"black\" d=\"M338.69,-460.91C322.29,-451.02 304.64,-440.37 287.87,-430.25\"/>\r\n",
       "<polygon fill=\"black\" stroke=\"black\" points=\"289.56,-427.19 279.19,-425.02 285.94,-433.18 289.56,-427.19\"/>\r\n",
       "</g>\r\n",
       "<!-- 7 -->\r\n",
       "<g id=\"node8\" class=\"node\">\r\n",
       "<title>7</title>\r\n",
       "<polygon fill=\"#eca06a\" stroke=\"black\" points=\"477,-425 335,-425 335,-342 477,-342 477,-425\"/>\r\n",
       "<text text-anchor=\"middle\" x=\"406\" y=\"-409.8\" font-family=\"Times New Roman,serif\" font-size=\"14.00\">mean texture &lt;= 19.15</text>\r\n",
       "<text text-anchor=\"middle\" x=\"406\" y=\"-394.8\" font-family=\"Times New Roman,serif\" font-size=\"14.00\">gini = 0.32</text>\r\n",
       "<text text-anchor=\"middle\" x=\"406\" y=\"-379.8\" font-family=\"Times New Roman,serif\" font-size=\"14.00\">samples = 5</text>\r\n",
       "<text text-anchor=\"middle\" x=\"406\" y=\"-364.8\" font-family=\"Times New Roman,serif\" font-size=\"14.00\">value = [4, 1]</text>\r\n",
       "<text text-anchor=\"middle\" x=\"406\" y=\"-349.8\" font-family=\"Times New Roman,serif\" font-size=\"14.00\">class = malignant</text>\r\n",
       "</g>\r\n",
       "<!-- 1&#45;&gt;7 -->\r\n",
       "<g id=\"edge7\" class=\"edge\">\r\n",
       "<title>1&#45;&gt;7</title>\r\n",
       "<path fill=\"none\" stroke=\"black\" d=\"M406,-460.91C406,-452.65 406,-443.86 406,-435.3\"/>\r\n",
       "<polygon fill=\"black\" stroke=\"black\" points=\"409.5,-435.02 406,-425.02 402.5,-435.02 409.5,-435.02\"/>\r\n",
       "</g>\r\n",
       "<!-- 3 -->\r\n",
       "<g id=\"node4\" class=\"node\">\r\n",
       "<title>3</title>\r\n",
       "<polygon fill=\"#399de5\" stroke=\"black\" points=\"98,-298.5 0,-298.5 0,-230.5 98,-230.5 98,-298.5\"/>\r\n",
       "<text text-anchor=\"middle\" x=\"49\" y=\"-283.3\" font-family=\"Times New Roman,serif\" font-size=\"14.00\">gini = 0.0</text>\r\n",
       "<text text-anchor=\"middle\" x=\"49\" y=\"-268.3\" font-family=\"Times New Roman,serif\" font-size=\"14.00\">samples = 97</text>\r\n",
       "<text text-anchor=\"middle\" x=\"49\" y=\"-253.3\" font-family=\"Times New Roman,serif\" font-size=\"14.00\">value = [0, 97]</text>\r\n",
       "<text text-anchor=\"middle\" x=\"49\" y=\"-238.3\" font-family=\"Times New Roman,serif\" font-size=\"14.00\">class = benign</text>\r\n",
       "</g>\r\n",
       "<!-- 2&#45;&gt;3 -->\r\n",
       "<g id=\"edge3\" class=\"edge\">\r\n",
       "<title>2&#45;&gt;3</title>\r\n",
       "<path fill=\"none\" stroke=\"black\" d=\"M155.45,-341.91C138.69,-329.88 120.38,-316.73 103.74,-304.79\"/>\r\n",
       "<polygon fill=\"black\" stroke=\"black\" points=\"105.37,-301.65 95.21,-298.67 101.29,-307.34 105.37,-301.65\"/>\r\n",
       "</g>\r\n",
       "<!-- 4 -->\r\n",
       "<g id=\"node5\" class=\"node\">\r\n",
       "<title>4</title>\r\n",
       "<polygon fill=\"#65b3eb\" stroke=\"black\" points=\"307.5,-306 116.5,-306 116.5,-223 307.5,-223 307.5,-306\"/>\r\n",
       "<text text-anchor=\"middle\" x=\"212\" y=\"-290.8\" font-family=\"Times New Roman,serif\" font-size=\"14.00\">worst concave points &lt;= 0.092</text>\r\n",
       "<text text-anchor=\"middle\" x=\"212\" y=\"-275.8\" font-family=\"Times New Roman,serif\" font-size=\"14.00\">gini = 0.298</text>\r\n",
       "<text text-anchor=\"middle\" x=\"212\" y=\"-260.8\" font-family=\"Times New Roman,serif\" font-size=\"14.00\">samples = 11</text>\r\n",
       "<text text-anchor=\"middle\" x=\"212\" y=\"-245.8\" font-family=\"Times New Roman,serif\" font-size=\"14.00\">value = [2, 9]</text>\r\n",
       "<text text-anchor=\"middle\" x=\"212\" y=\"-230.8\" font-family=\"Times New Roman,serif\" font-size=\"14.00\">class = benign</text>\r\n",
       "</g>\r\n",
       "<!-- 2&#45;&gt;4 -->\r\n",
       "<g id=\"edge4\" class=\"edge\">\r\n",
       "<title>2&#45;&gt;4</title>\r\n",
       "<path fill=\"none\" stroke=\"black\" d=\"M212,-341.91C212,-333.65 212,-324.86 212,-316.3\"/>\r\n",
       "<polygon fill=\"black\" stroke=\"black\" points=\"215.5,-316.02 212,-306.02 208.5,-316.02 215.5,-316.02\"/>\r\n",
       "</g>\r\n",
       "<!-- 5 -->\r\n",
       "<g id=\"node6\" class=\"node\">\r\n",
       "<title>5</title>\r\n",
       "<polygon fill=\"#399de5\" stroke=\"black\" points=\"198.5,-179.5 101.5,-179.5 101.5,-111.5 198.5,-111.5 198.5,-179.5\"/>\r\n",
       "<text text-anchor=\"middle\" x=\"150\" y=\"-164.3\" font-family=\"Times New Roman,serif\" font-size=\"14.00\">gini = 0.0</text>\r\n",
       "<text text-anchor=\"middle\" x=\"150\" y=\"-149.3\" font-family=\"Times New Roman,serif\" font-size=\"14.00\">samples = 9</text>\r\n",
       "<text text-anchor=\"middle\" x=\"150\" y=\"-134.3\" font-family=\"Times New Roman,serif\" font-size=\"14.00\">value = [0, 9]</text>\r\n",
       "<text text-anchor=\"middle\" x=\"150\" y=\"-119.3\" font-family=\"Times New Roman,serif\" font-size=\"14.00\">class = benign</text>\r\n",
       "</g>\r\n",
       "<!-- 4&#45;&gt;5 -->\r\n",
       "<g id=\"edge5\" class=\"edge\">\r\n",
       "<title>4&#45;&gt;5</title>\r\n",
       "<path fill=\"none\" stroke=\"black\" d=\"M190.49,-222.91C184.64,-211.87 178.3,-199.9 172.4,-188.77\"/>\r\n",
       "<polygon fill=\"black\" stroke=\"black\" points=\"175.35,-186.86 167.58,-179.67 169.17,-190.14 175.35,-186.86\"/>\r\n",
       "</g>\r\n",
       "<!-- 6 -->\r\n",
       "<g id=\"node7\" class=\"node\">\r\n",
       "<title>6</title>\r\n",
       "<polygon fill=\"#e58139\" stroke=\"black\" points=\"329.5,-179.5 216.5,-179.5 216.5,-111.5 329.5,-111.5 329.5,-179.5\"/>\r\n",
       "<text text-anchor=\"middle\" x=\"273\" y=\"-164.3\" font-family=\"Times New Roman,serif\" font-size=\"14.00\">gini = 0.0</text>\r\n",
       "<text text-anchor=\"middle\" x=\"273\" y=\"-149.3\" font-family=\"Times New Roman,serif\" font-size=\"14.00\">samples = 2</text>\r\n",
       "<text text-anchor=\"middle\" x=\"273\" y=\"-134.3\" font-family=\"Times New Roman,serif\" font-size=\"14.00\">value = [2, 0]</text>\r\n",
       "<text text-anchor=\"middle\" x=\"273\" y=\"-119.3\" font-family=\"Times New Roman,serif\" font-size=\"14.00\">class = malignant</text>\r\n",
       "</g>\r\n",
       "<!-- 4&#45;&gt;6 -->\r\n",
       "<g id=\"edge6\" class=\"edge\">\r\n",
       "<title>4&#45;&gt;6</title>\r\n",
       "<path fill=\"none\" stroke=\"black\" d=\"M233.16,-222.91C238.92,-211.87 245.16,-199.9 250.96,-188.77\"/>\r\n",
       "<polygon fill=\"black\" stroke=\"black\" points=\"254.19,-190.15 255.71,-179.67 247.98,-186.92 254.19,-190.15\"/>\r\n",
       "</g>\r\n",
       "<!-- 8 -->\r\n",
       "<g id=\"node9\" class=\"node\">\r\n",
       "<title>8</title>\r\n",
       "<polygon fill=\"#399de5\" stroke=\"black\" points=\"422.5,-298.5 325.5,-298.5 325.5,-230.5 422.5,-230.5 422.5,-298.5\"/>\r\n",
       "<text text-anchor=\"middle\" x=\"374\" y=\"-283.3\" font-family=\"Times New Roman,serif\" font-size=\"14.00\">gini = 0.0</text>\r\n",
       "<text text-anchor=\"middle\" x=\"374\" y=\"-268.3\" font-family=\"Times New Roman,serif\" font-size=\"14.00\">samples = 1</text>\r\n",
       "<text text-anchor=\"middle\" x=\"374\" y=\"-253.3\" font-family=\"Times New Roman,serif\" font-size=\"14.00\">value = [0, 1]</text>\r\n",
       "<text text-anchor=\"middle\" x=\"374\" y=\"-238.3\" font-family=\"Times New Roman,serif\" font-size=\"14.00\">class = benign</text>\r\n",
       "</g>\r\n",
       "<!-- 7&#45;&gt;8 -->\r\n",
       "<g id=\"edge8\" class=\"edge\">\r\n",
       "<title>7&#45;&gt;8</title>\r\n",
       "<path fill=\"none\" stroke=\"black\" d=\"M394.9,-341.91C391.94,-331.09 388.74,-319.38 385.74,-308.44\"/>\r\n",
       "<polygon fill=\"black\" stroke=\"black\" points=\"389.09,-307.39 383.07,-298.67 382.33,-309.24 389.09,-307.39\"/>\r\n",
       "</g>\r\n",
       "<!-- 9 -->\r\n",
       "<g id=\"node10\" class=\"node\">\r\n",
       "<title>9</title>\r\n",
       "<polygon fill=\"#e58139\" stroke=\"black\" points=\"553.5,-298.5 440.5,-298.5 440.5,-230.5 553.5,-230.5 553.5,-298.5\"/>\r\n",
       "<text text-anchor=\"middle\" x=\"497\" y=\"-283.3\" font-family=\"Times New Roman,serif\" font-size=\"14.00\">gini = 0.0</text>\r\n",
       "<text text-anchor=\"middle\" x=\"497\" y=\"-268.3\" font-family=\"Times New Roman,serif\" font-size=\"14.00\">samples = 4</text>\r\n",
       "<text text-anchor=\"middle\" x=\"497\" y=\"-253.3\" font-family=\"Times New Roman,serif\" font-size=\"14.00\">value = [4, 0]</text>\r\n",
       "<text text-anchor=\"middle\" x=\"497\" y=\"-238.3\" font-family=\"Times New Roman,serif\" font-size=\"14.00\">class = malignant</text>\r\n",
       "</g>\r\n",
       "<!-- 7&#45;&gt;9 -->\r\n",
       "<g id=\"edge9\" class=\"edge\">\r\n",
       "<title>7&#45;&gt;9</title>\r\n",
       "<path fill=\"none\" stroke=\"black\" d=\"M437.57,-341.91C446.41,-330.54 456.03,-318.18 464.9,-306.77\"/>\r\n",
       "<polygon fill=\"black\" stroke=\"black\" points=\"467.83,-308.71 471.2,-298.67 462.3,-304.41 467.83,-308.71\"/>\r\n",
       "</g>\r\n",
       "<!-- 11 -->\r\n",
       "<g id=\"node12\" class=\"node\">\r\n",
       "<title>11</title>\r\n",
       "<polygon fill=\"#e68640\" stroke=\"black\" points=\"685.5,-425 554.5,-425 554.5,-342 685.5,-342 685.5,-425\"/>\r\n",
       "<text text-anchor=\"middle\" x=\"620\" y=\"-409.8\" font-family=\"Times New Roman,serif\" font-size=\"14.00\">area error &lt;= 13.475</text>\r\n",
       "<text text-anchor=\"middle\" x=\"620\" y=\"-394.8\" font-family=\"Times New Roman,serif\" font-size=\"14.00\">gini = 0.07</text>\r\n",
       "<text text-anchor=\"middle\" x=\"620\" y=\"-379.8\" font-family=\"Times New Roman,serif\" font-size=\"14.00\">samples = 55</text>\r\n",
       "<text text-anchor=\"middle\" x=\"620\" y=\"-364.8\" font-family=\"Times New Roman,serif\" font-size=\"14.00\">value = [53, 2]</text>\r\n",
       "<text text-anchor=\"middle\" x=\"620\" y=\"-349.8\" font-family=\"Times New Roman,serif\" font-size=\"14.00\">class = malignant</text>\r\n",
       "</g>\r\n",
       "<!-- 10&#45;&gt;11 -->\r\n",
       "<g id=\"edge11\" class=\"edge\">\r\n",
       "<title>10&#45;&gt;11</title>\r\n",
       "<path fill=\"none\" stroke=\"black\" d=\"M620,-460.91C620,-452.65 620,-443.86 620,-435.3\"/>\r\n",
       "<polygon fill=\"black\" stroke=\"black\" points=\"623.5,-435.02 620,-425.02 616.5,-435.02 623.5,-435.02\"/>\r\n",
       "</g>\r\n",
       "<!-- 18 -->\r\n",
       "<g id=\"node19\" class=\"node\">\r\n",
       "<title>18</title>\r\n",
       "<polygon fill=\"#399de5\" stroke=\"black\" points=\"800.5,-417.5 703.5,-417.5 703.5,-349.5 800.5,-349.5 800.5,-417.5\"/>\r\n",
       "<text text-anchor=\"middle\" x=\"752\" y=\"-402.3\" font-family=\"Times New Roman,serif\" font-size=\"14.00\">gini = 0.0</text>\r\n",
       "<text text-anchor=\"middle\" x=\"752\" y=\"-387.3\" font-family=\"Times New Roman,serif\" font-size=\"14.00\">samples = 2</text>\r\n",
       "<text text-anchor=\"middle\" x=\"752\" y=\"-372.3\" font-family=\"Times New Roman,serif\" font-size=\"14.00\">value = [0, 2]</text>\r\n",
       "<text text-anchor=\"middle\" x=\"752\" y=\"-357.3\" font-family=\"Times New Roman,serif\" font-size=\"14.00\">class = benign</text>\r\n",
       "</g>\r\n",
       "<!-- 10&#45;&gt;18 -->\r\n",
       "<g id=\"edge18\" class=\"edge\">\r\n",
       "<title>10&#45;&gt;18</title>\r\n",
       "<path fill=\"none\" stroke=\"black\" d=\"M665.8,-460.91C679.12,-449.1 693.65,-436.22 706.93,-424.45\"/>\r\n",
       "<polygon fill=\"black\" stroke=\"black\" points=\"709.42,-426.92 714.58,-417.67 704.78,-421.68 709.42,-426.92\"/>\r\n",
       "</g>\r\n",
       "<!-- 12 -->\r\n",
       "<g id=\"node13\" class=\"node\">\r\n",
       "<title>12</title>\r\n",
       "<polygon fill=\"#399de5\" stroke=\"black\" points=\"668.5,-298.5 571.5,-298.5 571.5,-230.5 668.5,-230.5 668.5,-298.5\"/>\r\n",
       "<text text-anchor=\"middle\" x=\"620\" y=\"-283.3\" font-family=\"Times New Roman,serif\" font-size=\"14.00\">gini = 0.0</text>\r\n",
       "<text text-anchor=\"middle\" x=\"620\" y=\"-268.3\" font-family=\"Times New Roman,serif\" font-size=\"14.00\">samples = 1</text>\r\n",
       "<text text-anchor=\"middle\" x=\"620\" y=\"-253.3\" font-family=\"Times New Roman,serif\" font-size=\"14.00\">value = [0, 1]</text>\r\n",
       "<text text-anchor=\"middle\" x=\"620\" y=\"-238.3\" font-family=\"Times New Roman,serif\" font-size=\"14.00\">class = benign</text>\r\n",
       "</g>\r\n",
       "<!-- 11&#45;&gt;12 -->\r\n",
       "<g id=\"edge12\" class=\"edge\">\r\n",
       "<title>11&#45;&gt;12</title>\r\n",
       "<path fill=\"none\" stroke=\"black\" d=\"M620,-341.91C620,-331.2 620,-319.62 620,-308.78\"/>\r\n",
       "<polygon fill=\"black\" stroke=\"black\" points=\"623.5,-308.67 620,-298.67 616.5,-308.67 623.5,-308.67\"/>\r\n",
       "</g>\r\n",
       "<!-- 13 -->\r\n",
       "<g id=\"node14\" class=\"node\">\r\n",
       "<title>13</title>\r\n",
       "<polygon fill=\"#e5833d\" stroke=\"black\" points=\"865,-306 687,-306 687,-223 865,-223 865,-306\"/>\r\n",
       "<text text-anchor=\"middle\" x=\"776\" y=\"-290.8\" font-family=\"Times New Roman,serif\" font-size=\"14.00\">mean compactness &lt;= 0.102</text>\r\n",
       "<text text-anchor=\"middle\" x=\"776\" y=\"-275.8\" font-family=\"Times New Roman,serif\" font-size=\"14.00\">gini = 0.036</text>\r\n",
       "<text text-anchor=\"middle\" x=\"776\" y=\"-260.8\" font-family=\"Times New Roman,serif\" font-size=\"14.00\">samples = 54</text>\r\n",
       "<text text-anchor=\"middle\" x=\"776\" y=\"-245.8\" font-family=\"Times New Roman,serif\" font-size=\"14.00\">value = [53, 1]</text>\r\n",
       "<text text-anchor=\"middle\" x=\"776\" y=\"-230.8\" font-family=\"Times New Roman,serif\" font-size=\"14.00\">class = malignant</text>\r\n",
       "</g>\r\n",
       "<!-- 11&#45;&gt;13 -->\r\n",
       "<g id=\"edge13\" class=\"edge\">\r\n",
       "<title>11&#45;&gt;13</title>\r\n",
       "<path fill=\"none\" stroke=\"black\" d=\"M674.12,-341.91C686.95,-332.29 700.73,-321.95 713.88,-312.09\"/>\r\n",
       "<polygon fill=\"black\" stroke=\"black\" points=\"716.07,-314.82 721.97,-306.02 711.87,-309.22 716.07,-314.82\"/>\r\n",
       "</g>\r\n",
       "<!-- 14 -->\r\n",
       "<g id=\"node15\" class=\"node\">\r\n",
       "<title>14</title>\r\n",
       "<polygon fill=\"#ffffff\" stroke=\"black\" points=\"786.5,-187 595.5,-187 595.5,-104 786.5,-104 786.5,-187\"/>\r\n",
       "<text text-anchor=\"middle\" x=\"691\" y=\"-171.8\" font-family=\"Times New Roman,serif\" font-size=\"14.00\">worst concave points &lt;= 0.171</text>\r\n",
       "<text text-anchor=\"middle\" x=\"691\" y=\"-156.8\" font-family=\"Times New Roman,serif\" font-size=\"14.00\">gini = 0.5</text>\r\n",
       "<text text-anchor=\"middle\" x=\"691\" y=\"-141.8\" font-family=\"Times New Roman,serif\" font-size=\"14.00\">samples = 2</text>\r\n",
       "<text text-anchor=\"middle\" x=\"691\" y=\"-126.8\" font-family=\"Times New Roman,serif\" font-size=\"14.00\">value = [1, 1]</text>\r\n",
       "<text text-anchor=\"middle\" x=\"691\" y=\"-111.8\" font-family=\"Times New Roman,serif\" font-size=\"14.00\">class = malignant</text>\r\n",
       "</g>\r\n",
       "<!-- 13&#45;&gt;14 -->\r\n",
       "<g id=\"edge14\" class=\"edge\">\r\n",
       "<title>13&#45;&gt;14</title>\r\n",
       "<path fill=\"none\" stroke=\"black\" d=\"M746.51,-222.91C740.05,-214.01 733.14,-204.51 726.48,-195.33\"/>\r\n",
       "<polygon fill=\"black\" stroke=\"black\" points=\"729.15,-193.05 720.44,-187.02 723.48,-197.17 729.15,-193.05\"/>\r\n",
       "</g>\r\n",
       "<!-- 17 -->\r\n",
       "<g id=\"node18\" class=\"node\">\r\n",
       "<title>17</title>\r\n",
       "<polygon fill=\"#e58139\" stroke=\"black\" points=\"917.5,-179.5 804.5,-179.5 804.5,-111.5 917.5,-111.5 917.5,-179.5\"/>\r\n",
       "<text text-anchor=\"middle\" x=\"861\" y=\"-164.3\" font-family=\"Times New Roman,serif\" font-size=\"14.00\">gini = 0.0</text>\r\n",
       "<text text-anchor=\"middle\" x=\"861\" y=\"-149.3\" font-family=\"Times New Roman,serif\" font-size=\"14.00\">samples = 52</text>\r\n",
       "<text text-anchor=\"middle\" x=\"861\" y=\"-134.3\" font-family=\"Times New Roman,serif\" font-size=\"14.00\">value = [52, 0]</text>\r\n",
       "<text text-anchor=\"middle\" x=\"861\" y=\"-119.3\" font-family=\"Times New Roman,serif\" font-size=\"14.00\">class = malignant</text>\r\n",
       "</g>\r\n",
       "<!-- 13&#45;&gt;17 -->\r\n",
       "<g id=\"edge17\" class=\"edge\">\r\n",
       "<title>13&#45;&gt;17</title>\r\n",
       "<path fill=\"none\" stroke=\"black\" d=\"M805.49,-222.91C813.75,-211.54 822.73,-199.18 831.01,-187.77\"/>\r\n",
       "<polygon fill=\"black\" stroke=\"black\" points=\"833.86,-189.81 836.9,-179.67 828.2,-185.7 833.86,-189.81\"/>\r\n",
       "</g>\r\n",
       "<!-- 15 -->\r\n",
       "<g id=\"node16\" class=\"node\">\r\n",
       "<title>15</title>\r\n",
       "<polygon fill=\"#399de5\" stroke=\"black\" points=\"677.5,-68 580.5,-68 580.5,0 677.5,0 677.5,-68\"/>\r\n",
       "<text text-anchor=\"middle\" x=\"629\" y=\"-52.8\" font-family=\"Times New Roman,serif\" font-size=\"14.00\">gini = 0.0</text>\r\n",
       "<text text-anchor=\"middle\" x=\"629\" y=\"-37.8\" font-family=\"Times New Roman,serif\" font-size=\"14.00\">samples = 1</text>\r\n",
       "<text text-anchor=\"middle\" x=\"629\" y=\"-22.8\" font-family=\"Times New Roman,serif\" font-size=\"14.00\">value = [0, 1]</text>\r\n",
       "<text text-anchor=\"middle\" x=\"629\" y=\"-7.8\" font-family=\"Times New Roman,serif\" font-size=\"14.00\">class = benign</text>\r\n",
       "</g>\r\n",
       "<!-- 14&#45;&gt;15 -->\r\n",
       "<g id=\"edge15\" class=\"edge\">\r\n",
       "<title>14&#45;&gt;15</title>\r\n",
       "<path fill=\"none\" stroke=\"black\" d=\"M667.91,-103.73C663.01,-95.06 657.82,-85.9 652.88,-77.18\"/>\r\n",
       "<polygon fill=\"black\" stroke=\"black\" points=\"655.83,-75.28 647.85,-68.3 649.74,-78.73 655.83,-75.28\"/>\r\n",
       "</g>\r\n",
       "<!-- 16 -->\r\n",
       "<g id=\"node17\" class=\"node\">\r\n",
       "<title>16</title>\r\n",
       "<polygon fill=\"#e58139\" stroke=\"black\" points=\"808.5,-68 695.5,-68 695.5,0 808.5,0 808.5,-68\"/>\r\n",
       "<text text-anchor=\"middle\" x=\"752\" y=\"-52.8\" font-family=\"Times New Roman,serif\" font-size=\"14.00\">gini = 0.0</text>\r\n",
       "<text text-anchor=\"middle\" x=\"752\" y=\"-37.8\" font-family=\"Times New Roman,serif\" font-size=\"14.00\">samples = 1</text>\r\n",
       "<text text-anchor=\"middle\" x=\"752\" y=\"-22.8\" font-family=\"Times New Roman,serif\" font-size=\"14.00\">value = [1, 0]</text>\r\n",
       "<text text-anchor=\"middle\" x=\"752\" y=\"-7.8\" font-family=\"Times New Roman,serif\" font-size=\"14.00\">class = malignant</text>\r\n",
       "</g>\r\n",
       "<!-- 14&#45;&gt;16 -->\r\n",
       "<g id=\"edge16\" class=\"edge\">\r\n",
       "<title>14&#45;&gt;16</title>\r\n",
       "<path fill=\"none\" stroke=\"black\" d=\"M713.71,-103.73C718.54,-95.06 723.65,-85.9 728.5,-77.18\"/>\r\n",
       "<polygon fill=\"black\" stroke=\"black\" points=\"731.64,-78.74 733.45,-68.3 725.53,-75.33 731.64,-78.74\"/>\r\n",
       "</g>\r\n",
       "</g>\r\n",
       "</svg>\r\n"
      ],
      "text/plain": [
       "<graphviz.files.Source at 0x140ff3302c8>"
      ]
     },
     "execution_count": 7,
     "metadata": {},
     "output_type": "execute_result"
    }
   ],
   "source": [
    "print('[ max_depth의 제약이 없는 경우의 Decision Tree 시각화 ]')\n",
    "# 위에서 생성된 tree.dot 파일을 Graphiviz 가 읽어서 시각화\n",
    "with open(\"tree.dot\") as f:\n",
    "    dot_graph = f.read()\n",
    "graphviz.Source(dot_graph)"
   ]
  },
  {
   "cell_type": "markdown",
   "id": "f4d46f43",
   "metadata": {
    "id": "FxNrQ3Cqo7uh"
   },
   "source": [
    "- gini : 다음의 value=[]로 주어진 데이터 분포에서의 지니계수\n",
    "- samples : 현 규칙에 해당하는 데이터 건수\n",
    "- value=[] : 클래스 값(y label)에 해당하는 데이터 건수"
   ]
  },
  {
   "cell_type": "markdown",
   "id": "6b429cd8",
   "metadata": {
    "id": "IOx6doOdp9vu"
   },
   "source": [
    "# 4. 의사결정나무 모델 테스트"
   ]
  },
  {
   "cell_type": "code",
   "execution_count": 8,
   "id": "e5e345ce",
   "metadata": {
    "executionInfo": {
     "elapsed": 771,
     "status": "ok",
     "timestamp": 1616656677022,
     "user": {
      "displayName": "고해지",
      "photoUrl": "",
      "userId": "12709063932312169253"
     },
     "user_tz": -540
    },
    "id": "supreme-array"
   },
   "outputs": [],
   "source": [
    "y_pred = dt_clf.predict(x_test) "
   ]
  },
  {
   "cell_type": "code",
   "execution_count": 9,
   "id": "dfc704de",
   "metadata": {
    "colab": {
     "base_uri": "https://localhost:8080/"
    },
    "executionInfo": {
     "elapsed": 796,
     "status": "ok",
     "timestamp": 1616656701390,
     "user": {
      "displayName": "고해지",
      "photoUrl": "",
      "userId": "12709063932312169253"
     },
     "user_tz": -540
    },
    "id": "BsxJoB5-qZQ6",
    "outputId": "a4a518e2-c17b-400e-907d-796ef297e9b5"
   },
   "outputs": [
    {
     "name": "stdout",
     "output_type": "stream",
     "text": [
      "Train_Accuracy :  1.0 \n",
      "\n",
      "Test_Accuracy :  0.9298245614035088 \n",
      "\n",
      "Accuracy:  0.93 \n",
      "\n",
      "Recall:  0.98 \n",
      "\n",
      "Precision:  0.92 \n",
      "\n",
      "F1_score:  0.94 \n",
      "\n",
      "Confusion Matrix: \n",
      " [[131  22]\n",
      " [  6 240]]\n"
     ]
    }
   ],
   "source": [
    "\n",
    "# 학습결과 평가\n",
    "print(\"Train_Accuracy : \", dt_clf.score(x_train, y_train), '\\n')\n",
    "print(\"Test_Accuracy : \", dt_clf.score(x_test, y_test), '\\n')\n",
    "\n",
    "accuracy = mt.accuracy_score(y_test, y_pred)\n",
    "recall = mt.recall_score(y_test, y_pred)\n",
    "precision = mt.precision_score(y_test, y_pred)\n",
    "f1_score = mt.f1_score(y_test, y_pred)\n",
    "matrix = mt.confusion_matrix(y_test, y_pred)\n",
    "\n",
    "print('Accuracy: ', format(accuracy,'.2f'),'\\n')\n",
    "print('Recall: ', format(recall,'.2f'),'\\n')\n",
    "print('Precision: ', format(precision,'.2f'),'\\n')\n",
    "print('F1_score: ', format(f1_score,'.2f'),'\\n')\n",
    "print('Confusion Matrix:','\\n', matrix)"
   ]
  },
  {
   "cell_type": "markdown",
   "id": "d4aea574",
   "metadata": {
    "id": "xDtL22_dqhX1"
   },
   "source": [
    "## Cross Validation"
   ]
  },
  {
   "cell_type": "code",
   "execution_count": 10,
   "id": "05e585f3",
   "metadata": {
    "colab": {
     "base_uri": "https://localhost:8080/"
    },
    "executionInfo": {
     "elapsed": 1346,
     "status": "ok",
     "timestamp": 1616656744355,
     "user": {
      "displayName": "고해지",
      "photoUrl": "",
      "userId": "12709063932312169253"
     },
     "user_tz": -540
    },
    "id": "flG0CwtYqljt",
    "outputId": "89201be5-813d-4f57-db09-27f08e53f822"
   },
   "outputs": [
    {
     "name": "stdout",
     "output_type": "stream",
     "text": [
      "교차검증 평균:  0.9173265020959478\n"
     ]
    }
   ],
   "source": [
    "# 교차검증\n",
    "\n",
    "x = cancer.data\n",
    "y = cancer.target\n",
    "\n",
    "# 각 폴드의 스코어 \n",
    "scores = cross_val_score(dt_clf, x, y, cv = 5)\n",
    "\n",
    "print('교차검증 평균: ', scores.mean())"
   ]
  },
  {
   "cell_type": "code",
   "execution_count": 11,
   "id": "ae2e41ab",
   "metadata": {
    "colab": {
     "base_uri": "https://localhost:8080/",
     "height": 204
    },
    "executionInfo": {
     "elapsed": 1441,
     "status": "ok",
     "timestamp": 1616656751357,
     "user": {
      "displayName": "고해지",
      "photoUrl": "",
      "userId": "12709063932312169253"
     },
     "user_tz": -540
    },
    "id": "qmMv_JQ7vn66",
    "outputId": "854650d6-3a2d-4075-ec65-d87b6bc432d6"
   },
   "outputs": [
    {
     "data": {
      "text/html": [
       "<div>\n",
       "<style scoped>\n",
       "    .dataframe tbody tr th:only-of-type {\n",
       "        vertical-align: middle;\n",
       "    }\n",
       "\n",
       "    .dataframe tbody tr th {\n",
       "        vertical-align: top;\n",
       "    }\n",
       "\n",
       "    .dataframe thead th {\n",
       "        text-align: right;\n",
       "    }\n",
       "</style>\n",
       "<table border=\"1\" class=\"dataframe\">\n",
       "  <thead>\n",
       "    <tr style=\"text-align: right;\">\n",
       "      <th></th>\n",
       "      <th>fit_time</th>\n",
       "      <th>score_time</th>\n",
       "      <th>test_score</th>\n",
       "    </tr>\n",
       "  </thead>\n",
       "  <tbody>\n",
       "    <tr>\n",
       "      <th>0</th>\n",
       "      <td>0.007977</td>\n",
       "      <td>0.000000</td>\n",
       "      <td>0.912281</td>\n",
       "    </tr>\n",
       "    <tr>\n",
       "      <th>1</th>\n",
       "      <td>0.008977</td>\n",
       "      <td>0.000000</td>\n",
       "      <td>0.921053</td>\n",
       "    </tr>\n",
       "    <tr>\n",
       "      <th>2</th>\n",
       "      <td>0.008976</td>\n",
       "      <td>0.001084</td>\n",
       "      <td>0.921053</td>\n",
       "    </tr>\n",
       "    <tr>\n",
       "      <th>3</th>\n",
       "      <td>0.006947</td>\n",
       "      <td>0.000000</td>\n",
       "      <td>0.956140</td>\n",
       "    </tr>\n",
       "    <tr>\n",
       "      <th>4</th>\n",
       "      <td>0.008977</td>\n",
       "      <td>0.000997</td>\n",
       "      <td>0.876106</td>\n",
       "    </tr>\n",
       "  </tbody>\n",
       "</table>\n",
       "</div>"
      ],
      "text/plain": [
       "   fit_time  score_time  test_score\n",
       "0  0.007977    0.000000    0.912281\n",
       "1  0.008977    0.000000    0.921053\n",
       "2  0.008976    0.001084    0.921053\n",
       "3  0.006947    0.000000    0.956140\n",
       "4  0.008977    0.000997    0.876106"
      ]
     },
     "execution_count": 11,
     "metadata": {},
     "output_type": "execute_result"
    }
   ],
   "source": [
    "pd.DataFrame(cross_validate(dt_clf, x, y, cv =5))"
   ]
  },
  {
   "cell_type": "code",
   "execution_count": 12,
   "id": "f1398bfd",
   "metadata": {
    "colab": {
     "base_uri": "https://localhost:8080/"
    },
    "executionInfo": {
     "elapsed": 1355,
     "status": "ok",
     "timestamp": 1616656785170,
     "user": {
      "displayName": "고해지",
      "photoUrl": "",
      "userId": "12709063932312169253"
     },
     "user_tz": -540
    },
    "id": "6_rmVzT19Zxl",
    "outputId": "98743d2a-2a47-4f02-beb1-20dc038bb530"
   },
   "outputs": [
    {
     "data": {
      "text/plain": [
       "0.9298245614035088"
      ]
     },
     "execution_count": 12,
     "metadata": {},
     "output_type": "execute_result"
    }
   ],
   "source": [
    "# test set에 대한 스코어(정확도)\n",
    "dt_clf.score(x_test, y_test)"
   ]
  },
  {
   "cell_type": "markdown",
   "id": "2b649ea3",
   "metadata": {
    "id": "GSU_J9RBqmdM"
   },
   "source": [
    "# 5. 가지치기 수행 (Pruning phase)"
   ]
  },
  {
   "cell_type": "code",
   "execution_count": 13,
   "id": "03dce207",
   "metadata": {
    "colab": {
     "base_uri": "https://localhost:8080/"
    },
    "executionInfo": {
     "elapsed": 596,
     "status": "ok",
     "timestamp": 1616656797693,
     "user": {
      "displayName": "고해지",
      "photoUrl": "",
      "userId": "12709063932312169253"
     },
     "user_tz": -540
    },
    "id": "UulsN7VCqpmU",
    "outputId": "c0c2731b-e7cc-4229-f843-6319ac0121e4"
   },
   "outputs": [
    {
     "name": "stdout",
     "output_type": "stream",
     "text": [
      "훈련 세트 정확도: 0.9706\n",
      "테스트 세트 정확도: 0.9424\n"
     ]
    }
   ],
   "source": [
    "pruned_dt_clf = DecisionTreeClassifier(max_depth=2, random_state=156) # max_depth=3으로 제한\n",
    "pruned_dt_clf .fit(x_train, y_train)\n",
    "\n",
    "print(\"훈련 세트 정확도: {:.4f}\".format(pruned_dt_clf.score(x_train, y_train)))\n",
    "print(\"테스트 세트 정확도: {:.4f}\".format(pruned_dt_clf.score(x_test, y_test)))\n"
   ]
  },
  {
   "cell_type": "markdown",
   "id": "884d2b7a",
   "metadata": {
    "id": "c5pyS1rcQV7D"
   },
   "source": [
    "> 가지치기 수행 전보다 test set에 대한 정확도가 향상됨을 확인할 수 있다. (0.9298 -> 0.9706)"
   ]
  },
  {
   "cell_type": "code",
   "execution_count": 14,
   "id": "90493ad4",
   "metadata": {
    "executionInfo": {
     "elapsed": 731,
     "status": "ok",
     "timestamp": 1616656903505,
     "user": {
      "displayName": "고해지",
      "photoUrl": "",
      "userId": "12709063932312169253"
     },
     "user_tz": -540
    },
    "id": "SlK2rVR08JcA"
   },
   "outputs": [],
   "source": [
    "# export_graphviz( )의 호출 결과로 out_file로 지정된 tree.dot 파일을 생성함\n",
    "export_graphviz(pruned_dt_clf, out_file=\"prunedtree.dot\", class_names = cancer.target_names, feature_names = cancer.feature_names, impurity=True, filled=True)"
   ]
  },
  {
   "cell_type": "code",
   "execution_count": 15,
   "id": "d0b02f23",
   "metadata": {
    "colab": {
     "base_uri": "https://localhost:8080/",
     "height": 457
    },
    "executionInfo": {
     "elapsed": 606,
     "status": "ok",
     "timestamp": 1616656962037,
     "user": {
      "displayName": "고해지",
      "photoUrl": "",
      "userId": "12709063932312169253"
     },
     "user_tz": -540
    },
    "id": "lLIS-tv790is",
    "outputId": "24d31d01-1f03-474a-f184-9323478fbb9b"
   },
   "outputs": [
    {
     "name": "stdout",
     "output_type": "stream",
     "text": [
      "[ max_depth가 2인 경우의 Decision Tree 시각화 ]\n"
     ]
    },
    {
     "data": {
      "image/svg+xml": [
       "<?xml version=\"1.0\" encoding=\"UTF-8\" standalone=\"no\"?>\r\n",
       "<!DOCTYPE svg PUBLIC \"-//W3C//DTD SVG 1.1//EN\"\r\n",
       " \"http://www.w3.org/Graphics/SVG/1.1/DTD/svg11.dtd\">\r\n",
       "<!-- Generated by graphviz version 2.47.1 (20210417.1919)\r\n",
       " -->\r\n",
       "<!-- Title: Tree Pages: 1 -->\r\n",
       "<svg width=\"517pt\" height=\"314pt\"\r\n",
       " viewBox=\"0.00 0.00 516.50 314.00\" xmlns=\"http://www.w3.org/2000/svg\" xmlns:xlink=\"http://www.w3.org/1999/xlink\">\r\n",
       "<g id=\"graph0\" class=\"graph\" transform=\"scale(1 1) rotate(0) translate(4 310)\">\r\n",
       "<title>Tree</title>\r\n",
       "<polygon fill=\"white\" stroke=\"transparent\" points=\"-4,4 -4,-310 512.5,-310 512.5,4 -4,4\"/>\r\n",
       "<!-- 0 -->\r\n",
       "<g id=\"node1\" class=\"node\">\r\n",
       "<title>0</title>\r\n",
       "<polygon fill=\"#a2d1f3\" stroke=\"black\" points=\"352.5,-306 161.5,-306 161.5,-223 352.5,-223 352.5,-306\"/>\r\n",
       "<text text-anchor=\"middle\" x=\"257\" y=\"-290.8\" font-family=\"Times New Roman,serif\" font-size=\"14.00\">worst concave points &lt;= 0.145</text>\r\n",
       "<text text-anchor=\"middle\" x=\"257\" y=\"-275.8\" font-family=\"Times New Roman,serif\" font-size=\"14.00\">gini = 0.453</text>\r\n",
       "<text text-anchor=\"middle\" x=\"257\" y=\"-260.8\" font-family=\"Times New Roman,serif\" font-size=\"14.00\">samples = 170</text>\r\n",
       "<text text-anchor=\"middle\" x=\"257\" y=\"-245.8\" font-family=\"Times New Roman,serif\" font-size=\"14.00\">value = [59, 111]</text>\r\n",
       "<text text-anchor=\"middle\" x=\"257\" y=\"-230.8\" font-family=\"Times New Roman,serif\" font-size=\"14.00\">class = benign</text>\r\n",
       "</g>\r\n",
       "<!-- 1 -->\r\n",
       "<g id=\"node2\" class=\"node\">\r\n",
       "<title>1</title>\r\n",
       "<polygon fill=\"#44a2e6\" stroke=\"black\" points=\"233,-187 97,-187 97,-104 233,-104 233,-187\"/>\r\n",
       "<text text-anchor=\"middle\" x=\"165\" y=\"-171.8\" font-family=\"Times New Roman,serif\" font-size=\"14.00\">worst area &lt;= 893.65</text>\r\n",
       "<text text-anchor=\"middle\" x=\"165\" y=\"-156.8\" font-family=\"Times New Roman,serif\" font-size=\"14.00\">gini = 0.101</text>\r\n",
       "<text text-anchor=\"middle\" x=\"165\" y=\"-141.8\" font-family=\"Times New Roman,serif\" font-size=\"14.00\">samples = 113</text>\r\n",
       "<text text-anchor=\"middle\" x=\"165\" y=\"-126.8\" font-family=\"Times New Roman,serif\" font-size=\"14.00\">value = [6, 107]</text>\r\n",
       "<text text-anchor=\"middle\" x=\"165\" y=\"-111.8\" font-family=\"Times New Roman,serif\" font-size=\"14.00\">class = benign</text>\r\n",
       "</g>\r\n",
       "<!-- 0&#45;&gt;1 -->\r\n",
       "<g id=\"edge1\" class=\"edge\">\r\n",
       "<title>0&#45;&gt;1</title>\r\n",
       "<path fill=\"none\" stroke=\"black\" d=\"M225.08,-222.91C218.02,-213.92 210.46,-204.32 203.18,-195.05\"/>\r\n",
       "<polygon fill=\"black\" stroke=\"black\" points=\"205.8,-192.72 196.86,-187.02 200.29,-197.05 205.8,-192.72\"/>\r\n",
       "<text text-anchor=\"middle\" x=\"193.89\" y=\"-208.14\" font-family=\"Times New Roman,serif\" font-size=\"14.00\">True</text>\r\n",
       "</g>\r\n",
       "<!-- 4 -->\r\n",
       "<g id=\"node5\" class=\"node\">\r\n",
       "<title>4</title>\r\n",
       "<polygon fill=\"#e78b48\" stroke=\"black\" points=\"448.5,-187 251.5,-187 251.5,-104 448.5,-104 448.5,-187\"/>\r\n",
       "<text text-anchor=\"middle\" x=\"350\" y=\"-171.8\" font-family=\"Times New Roman,serif\" font-size=\"14.00\">fractal dimension error &lt;= 0.013</text>\r\n",
       "<text text-anchor=\"middle\" x=\"350\" y=\"-156.8\" font-family=\"Times New Roman,serif\" font-size=\"14.00\">gini = 0.131</text>\r\n",
       "<text text-anchor=\"middle\" x=\"350\" y=\"-141.8\" font-family=\"Times New Roman,serif\" font-size=\"14.00\">samples = 57</text>\r\n",
       "<text text-anchor=\"middle\" x=\"350\" y=\"-126.8\" font-family=\"Times New Roman,serif\" font-size=\"14.00\">value = [53, 4]</text>\r\n",
       "<text text-anchor=\"middle\" x=\"350\" y=\"-111.8\" font-family=\"Times New Roman,serif\" font-size=\"14.00\">class = malignant</text>\r\n",
       "</g>\r\n",
       "<!-- 0&#45;&gt;4 -->\r\n",
       "<g id=\"edge4\" class=\"edge\">\r\n",
       "<title>0&#45;&gt;4</title>\r\n",
       "<path fill=\"none\" stroke=\"black\" d=\"M289.27,-222.91C296.41,-213.92 304.04,-204.32 311.41,-195.05\"/>\r\n",
       "<polygon fill=\"black\" stroke=\"black\" points=\"314.31,-197.03 317.79,-187.02 308.83,-192.67 314.31,-197.03\"/>\r\n",
       "<text text-anchor=\"middle\" x=\"320.63\" y=\"-208.16\" font-family=\"Times New Roman,serif\" font-size=\"14.00\">False</text>\r\n",
       "</g>\r\n",
       "<!-- 2 -->\r\n",
       "<g id=\"node3\" class=\"node\">\r\n",
       "<title>2</title>\r\n",
       "<polygon fill=\"#3d9fe5\" stroke=\"black\" points=\"104,-68 0,-68 0,0 104,0 104,-68\"/>\r\n",
       "<text text-anchor=\"middle\" x=\"52\" y=\"-52.8\" font-family=\"Times New Roman,serif\" font-size=\"14.00\">gini = 0.036</text>\r\n",
       "<text text-anchor=\"middle\" x=\"52\" y=\"-37.8\" font-family=\"Times New Roman,serif\" font-size=\"14.00\">samples = 108</text>\r\n",
       "<text text-anchor=\"middle\" x=\"52\" y=\"-22.8\" font-family=\"Times New Roman,serif\" font-size=\"14.00\">value = [2, 106]</text>\r\n",
       "<text text-anchor=\"middle\" x=\"52\" y=\"-7.8\" font-family=\"Times New Roman,serif\" font-size=\"14.00\">class = benign</text>\r\n",
       "</g>\r\n",
       "<!-- 1&#45;&gt;2 -->\r\n",
       "<g id=\"edge2\" class=\"edge\">\r\n",
       "<title>1&#45;&gt;2</title>\r\n",
       "<path fill=\"none\" stroke=\"black\" d=\"M122.92,-103.73C113.32,-94.42 103.13,-84.54 93.55,-75.26\"/>\r\n",
       "<polygon fill=\"black\" stroke=\"black\" points=\"95.98,-72.75 86.36,-68.3 91.11,-77.77 95.98,-72.75\"/>\r\n",
       "</g>\r\n",
       "<!-- 3 -->\r\n",
       "<g id=\"node4\" class=\"node\">\r\n",
       "<title>3</title>\r\n",
       "<polygon fill=\"#eca06a\" stroke=\"black\" points=\"235.5,-68 122.5,-68 122.5,0 235.5,0 235.5,-68\"/>\r\n",
       "<text text-anchor=\"middle\" x=\"179\" y=\"-52.8\" font-family=\"Times New Roman,serif\" font-size=\"14.00\">gini = 0.32</text>\r\n",
       "<text text-anchor=\"middle\" x=\"179\" y=\"-37.8\" font-family=\"Times New Roman,serif\" font-size=\"14.00\">samples = 5</text>\r\n",
       "<text text-anchor=\"middle\" x=\"179\" y=\"-22.8\" font-family=\"Times New Roman,serif\" font-size=\"14.00\">value = [4, 1]</text>\r\n",
       "<text text-anchor=\"middle\" x=\"179\" y=\"-7.8\" font-family=\"Times New Roman,serif\" font-size=\"14.00\">class = malignant</text>\r\n",
       "</g>\r\n",
       "<!-- 1&#45;&gt;3 -->\r\n",
       "<g id=\"edge3\" class=\"edge\">\r\n",
       "<title>1&#45;&gt;3</title>\r\n",
       "<path fill=\"none\" stroke=\"black\" d=\"M170.21,-103.73C171.27,-95.43 172.39,-86.67 173.47,-78.28\"/>\r\n",
       "<polygon fill=\"black\" stroke=\"black\" points=\"176.95,-78.66 174.74,-68.3 170,-77.77 176.95,-78.66\"/>\r\n",
       "</g>\r\n",
       "<!-- 5 -->\r\n",
       "<g id=\"node6\" class=\"node\">\r\n",
       "<title>5</title>\r\n",
       "<polygon fill=\"#e68640\" stroke=\"black\" points=\"393.5,-68 280.5,-68 280.5,0 393.5,0 393.5,-68\"/>\r\n",
       "<text text-anchor=\"middle\" x=\"337\" y=\"-52.8\" font-family=\"Times New Roman,serif\" font-size=\"14.00\">gini = 0.07</text>\r\n",
       "<text text-anchor=\"middle\" x=\"337\" y=\"-37.8\" font-family=\"Times New Roman,serif\" font-size=\"14.00\">samples = 55</text>\r\n",
       "<text text-anchor=\"middle\" x=\"337\" y=\"-22.8\" font-family=\"Times New Roman,serif\" font-size=\"14.00\">value = [53, 2]</text>\r\n",
       "<text text-anchor=\"middle\" x=\"337\" y=\"-7.8\" font-family=\"Times New Roman,serif\" font-size=\"14.00\">class = malignant</text>\r\n",
       "</g>\r\n",
       "<!-- 4&#45;&gt;5 -->\r\n",
       "<g id=\"edge5\" class=\"edge\">\r\n",
       "<title>4&#45;&gt;5</title>\r\n",
       "<path fill=\"none\" stroke=\"black\" d=\"M345.16,-103.73C344.17,-95.43 343.13,-86.67 342.14,-78.28\"/>\r\n",
       "<polygon fill=\"black\" stroke=\"black\" points=\"345.61,-77.82 340.95,-68.3 338.66,-78.64 345.61,-77.82\"/>\r\n",
       "</g>\r\n",
       "<!-- 6 -->\r\n",
       "<g id=\"node7\" class=\"node\">\r\n",
       "<title>6</title>\r\n",
       "<polygon fill=\"#399de5\" stroke=\"black\" points=\"508.5,-68 411.5,-68 411.5,0 508.5,0 508.5,-68\"/>\r\n",
       "<text text-anchor=\"middle\" x=\"460\" y=\"-52.8\" font-family=\"Times New Roman,serif\" font-size=\"14.00\">gini = 0.0</text>\r\n",
       "<text text-anchor=\"middle\" x=\"460\" y=\"-37.8\" font-family=\"Times New Roman,serif\" font-size=\"14.00\">samples = 2</text>\r\n",
       "<text text-anchor=\"middle\" x=\"460\" y=\"-22.8\" font-family=\"Times New Roman,serif\" font-size=\"14.00\">value = [0, 2]</text>\r\n",
       "<text text-anchor=\"middle\" x=\"460\" y=\"-7.8\" font-family=\"Times New Roman,serif\" font-size=\"14.00\">class = benign</text>\r\n",
       "</g>\r\n",
       "<!-- 4&#45;&gt;6 -->\r\n",
       "<g id=\"edge6\" class=\"edge\">\r\n",
       "<title>4&#45;&gt;6</title>\r\n",
       "<path fill=\"none\" stroke=\"black\" d=\"M390.96,-103.73C400.21,-94.51 410.04,-84.74 419.28,-75.53\"/>\r\n",
       "<polygon fill=\"black\" stroke=\"black\" points=\"421.93,-77.84 426.55,-68.3 416.99,-72.87 421.93,-77.84\"/>\r\n",
       "</g>\r\n",
       "</g>\r\n",
       "</svg>\r\n"
      ],
      "text/plain": [
       "<graphviz.files.Source at 0x140ff47c7c8>"
      ]
     },
     "execution_count": 15,
     "metadata": {},
     "output_type": "execute_result"
    }
   ],
   "source": [
    "print('[ max_depth가 2인 경우의 Decision Tree 시각화 ]')\n",
    "# 위에서 생성된 tree.dot 파일을 Graphiviz 가 읽어서 시각화\n",
    "with open(\"prunedtree.dot\") as f:\n",
    "    dot_graph = f.read()\n",
    "graphviz.Source(dot_graph)"
   ]
  },
  {
   "cell_type": "markdown",
   "id": "8a050c66",
   "metadata": {},
   "source": [
    "<font color=red> ※ Graphviz Error 발생 시, https://graphviz.gitlab.io/ 사이트에 접속해서 installer를 설치하고, <br>\n",
    "    시스템 환경변수 설정을 완룐 한 후에 파이썬을 세션을 재실행하세요."
   ]
  }
 ],
 "metadata": {
  "colab": {
   "collapsed_sections": [],
   "name": "DecisionTree.ipynb",
   "provenance": [
    {
     "file_id": "1c3wmF5gu_EzqyTKavRDn99O7AIeSdoxo",
     "timestamp": 1616655919294
    }
   ],
   "toc_visible": true
  },
  "kernelspec": {
   "display_name": "Python 3",
   "language": "python",
   "name": "python3"
  },
  "language_info": {
   "codemirror_mode": {
    "name": "ipython",
    "version": 3
   },
   "file_extension": ".py",
   "mimetype": "text/x-python",
   "name": "python",
   "nbconvert_exporter": "python",
   "pygments_lexer": "ipython3",
   "version": "3.8.8"
  },
  "toc": {
   "base_numbering": 1,
   "nav_menu": {},
   "number_sections": true,
   "sideBar": true,
   "skip_h1_title": false,
   "title_cell": "Table of Contents",
   "title_sidebar": "Contents",
   "toc_cell": false,
   "toc_position": {},
   "toc_section_display": true,
   "toc_window_display": true
  }
 },
 "nbformat": 4,
 "nbformat_minor": 5
}
